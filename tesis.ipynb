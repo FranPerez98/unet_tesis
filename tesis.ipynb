{
  "nbformat": 4,
  "nbformat_minor": 0,
  "metadata": {
    "colab": {
      "name": "tesis.ipynb",
      "provenance": [],
      "authorship_tag": "ABX9TyNjXJDwHtw6N5zxiI5IoNqz",
      "include_colab_link": true
    },
    "kernelspec": {
      "name": "python3",
      "display_name": "Python 3"
    }
  },
  "cells": [
    {
      "cell_type": "markdown",
      "metadata": {
        "id": "view-in-github",
        "colab_type": "text"
      },
      "source": [
        "<a href=\"https://colab.research.google.com/github/FranPerez98/unet_tesis/blob/master/tesis.ipynb\" target=\"_parent\"><img src=\"https://colab.research.google.com/assets/colab-badge.svg\" alt=\"Open In Colab\"/></a>"
      ]
    },
    {
      "cell_type": "code",
      "metadata": {
        "id": "2t1ev689fdVK",
        "outputId": "f6fa1227-4fff-4054-ae4c-a1e10cf24036",
        "colab": {
          "base_uri": "https://localhost:8080/",
          "height": 34
        }
      },
      "source": [
        "from google.colab import drive\n",
        "drive.mount('/content/gdrive')\n"
      ],
      "execution_count": 2,
      "outputs": [
        {
          "output_type": "stream",
          "text": [
            "Mounted at /content/gdrive\n"
          ],
          "name": "stdout"
        }
      ]
    },
    {
      "cell_type": "code",
      "metadata": {
        "id": "50ZmE2M_fren",
        "outputId": "31747796-42d8-4455-8d84-794b8b7f9815",
        "colab": {
          "base_uri": "https://localhost:8080/",
          "height": 34
        }
      },
      "source": [
        "%cd /content/gdrive/My\\ Drive/TESIS1/Colabs/"
      ],
      "execution_count": 3,
      "outputs": [
        {
          "output_type": "stream",
          "text": [
            "/content/gdrive/My Drive/TESIS1/Colabs\n"
          ],
          "name": "stdout"
        }
      ]
    },
    {
      "cell_type": "code",
      "metadata": {
        "id": "LWgyPMg8f1GD",
        "outputId": "e80b1108-5c7a-4f47-9bcc-bc89fc4320b9",
        "colab": {
          "base_uri": "https://localhost:8080/",
          "height": 50
        }
      },
      "source": [
        "!ls"
      ],
      "execution_count": 9,
      "outputs": [
        {
          "output_type": "stream",
          "text": [
            "data\t\t   data.py  main.py   README.md\n",
            "dataPrepare.ipynb  LICENSE  model.py  trainUnet.ipynb\n"
          ],
          "name": "stdout"
        }
      ]
    },
    {
      "cell_type": "code",
      "metadata": {
        "id": "LmYwp5kJf9Yk",
        "outputId": "04ea2c3b-9515-4037-df1f-918250d535f0",
        "colab": {
          "base_uri": "https://localhost:8080/",
          "height": 118
        }
      },
      "source": [
        "!git clone https://github.com/FranPerez98/unet_tesis.git"
      ],
      "execution_count": 6,
      "outputs": [
        {
          "output_type": "stream",
          "text": [
            "Cloning into 'unet_tesis'...\n",
            "remote: Enumerating objects: 12, done.\u001b[K\n",
            "remote: Counting objects: 100% (12/12), done.\u001b[K\n",
            "remote: Compressing objects: 100% (10/10), done.\u001b[K\n",
            "remote: Total 12 (delta 1), reused 0 (delta 0), pack-reused 0\u001b[K\n",
            "Unpacking objects: 100% (12/12), done.\n"
          ],
          "name": "stdout"
        }
      ]
    },
    {
      "cell_type": "code",
      "metadata": {
        "id": "XEK52RLkhLIW",
        "outputId": "4c7cf665-8ff1-41ed-b109-8508c461b6e8",
        "colab": {
          "base_uri": "https://localhost:8080/",
          "height": 34
        }
      },
      "source": [
        "%cd unet_tesis/"
      ],
      "execution_count": 8,
      "outputs": [
        {
          "output_type": "stream",
          "text": [
            "/content/gdrive/My Drive/TESIS1/Colabs/unet_tesis\n"
          ],
          "name": "stdout"
        }
      ]
    },
    {
      "cell_type": "code",
      "metadata": {
        "id": "0tIMlQgohSWN"
      },
      "source": [
        "%rm data/membrane/test/*_predict.png"
      ],
      "execution_count": 11,
      "outputs": []
    },
    {
      "cell_type": "code",
      "metadata": {
        "id": "rtkGvY_7htWQ",
        "outputId": "c3445856-c128-49fc-a6f6-a8ef6932e493",
        "colab": {
          "base_uri": "https://localhost:8080/",
          "height": 34
        }
      },
      "source": [
        "!git init"
      ],
      "execution_count": 16,
      "outputs": [
        {
          "output_type": "stream",
          "text": [
            "Reinitialized existing Git repository in /content/gdrive/My Drive/TESIS1/Colabs/unet_tesis/.git/\n"
          ],
          "name": "stdout"
        }
      ]
    },
    {
      "cell_type": "code",
      "metadata": {
        "id": "tKgTDScLjMlB"
      },
      "source": [
        "!git config --global user.email 'fran.perez@pucp.edu.pe'\n",
        "!git config --global user.name 'FranPerez98'"
      ],
      "execution_count": 19,
      "outputs": []
    },
    {
      "cell_type": "code",
      "metadata": {
        "id": "_zI4I9ESkFpN"
      },
      "source": [
        "!git add -A"
      ],
      "execution_count": 20,
      "outputs": []
    },
    {
      "cell_type": "code",
      "metadata": {
        "id": "DH_ofH2gkQ1T",
        "outputId": "33c76fa8-acfe-407c-e493-828aded49add",
        "colab": {
          "base_uri": "https://localhost:8080/",
          "height": 1000
        }
      },
      "source": [
        "!git commit -m 'hola'"
      ],
      "execution_count": 21,
      "outputs": [
        {
          "output_type": "stream",
          "text": [
            "[master dea6b1a] hola\n",
            " 91 files changed, 1 insertion(+), 1 deletion(-)\n",
            " create mode 100644 data/membrane/test/0.png\n",
            " create mode 100644 data/membrane/test/1.png\n",
            " create mode 100644 data/membrane/test/10.png\n",
            " create mode 100644 data/membrane/test/11.png\n",
            " create mode 100644 data/membrane/test/12.png\n",
            " create mode 100644 data/membrane/test/13.png\n",
            " create mode 100644 data/membrane/test/14.png\n",
            " create mode 100644 data/membrane/test/15.png\n",
            " create mode 100644 data/membrane/test/16.png\n",
            " create mode 100644 data/membrane/test/17.png\n",
            " create mode 100644 data/membrane/test/18.png\n",
            " create mode 100644 data/membrane/test/19.png\n",
            " create mode 100644 data/membrane/test/2.png\n",
            " create mode 100644 data/membrane/test/20.png\n",
            " create mode 100644 data/membrane/test/21.png\n",
            " create mode 100644 data/membrane/test/22.png\n",
            " create mode 100644 data/membrane/test/23.png\n",
            " create mode 100644 data/membrane/test/24.png\n",
            " create mode 100644 data/membrane/test/25.png\n",
            " create mode 100644 data/membrane/test/26.png\n",
            " create mode 100644 data/membrane/test/27.png\n",
            " create mode 100644 data/membrane/test/28.png\n",
            " create mode 100644 data/membrane/test/29.png\n",
            " create mode 100644 data/membrane/test/3.png\n",
            " create mode 100644 data/membrane/test/4.png\n",
            " create mode 100644 data/membrane/test/5.png\n",
            " create mode 100644 data/membrane/test/6.png\n",
            " create mode 100644 data/membrane/test/7.png\n",
            " create mode 100644 data/membrane/test/8.png\n",
            " create mode 100644 data/membrane/test/9.png\n",
            " create mode 100644 data/membrane/train/image/0.png\n",
            " create mode 100644 data/membrane/train/image/1.png\n",
            " create mode 100644 data/membrane/train/image/10.png\n",
            " create mode 100644 data/membrane/train/image/11.png\n",
            " create mode 100644 data/membrane/train/image/12.png\n",
            " create mode 100644 data/membrane/train/image/13.png\n",
            " create mode 100644 data/membrane/train/image/14.png\n",
            " create mode 100644 data/membrane/train/image/15.png\n",
            " create mode 100644 data/membrane/train/image/16.png\n",
            " create mode 100644 data/membrane/train/image/17.png\n",
            " create mode 100644 data/membrane/train/image/18.png\n",
            " create mode 100644 data/membrane/train/image/19.png\n",
            " create mode 100644 data/membrane/train/image/2.png\n",
            " create mode 100644 data/membrane/train/image/20.png\n",
            " create mode 100644 data/membrane/train/image/21.png\n",
            " create mode 100644 data/membrane/train/image/22.png\n",
            " create mode 100644 data/membrane/train/image/23.png\n",
            " create mode 100644 data/membrane/train/image/24.png\n",
            " create mode 100644 data/membrane/train/image/25.png\n",
            " create mode 100644 data/membrane/train/image/26.png\n",
            " create mode 100644 data/membrane/train/image/27.png\n",
            " create mode 100644 data/membrane/train/image/28.png\n",
            " create mode 100644 data/membrane/train/image/29.png\n",
            " create mode 100644 data/membrane/train/image/3.png\n",
            " create mode 100644 data/membrane/train/image/4.png\n",
            " create mode 100644 data/membrane/train/image/5.png\n",
            " create mode 100644 data/membrane/train/image/6.png\n",
            " create mode 100644 data/membrane/train/image/7.png\n",
            " create mode 100644 data/membrane/train/image/8.png\n",
            " create mode 100644 data/membrane/train/image/9.png\n",
            " create mode 100644 data/membrane/train/label/0.png\n",
            " create mode 100644 data/membrane/train/label/1.png\n",
            " create mode 100644 data/membrane/train/label/10.png\n",
            " create mode 100644 data/membrane/train/label/11.png\n",
            " create mode 100644 data/membrane/train/label/12.png\n",
            " create mode 100644 data/membrane/train/label/13.png\n",
            " create mode 100644 data/membrane/train/label/14.png\n",
            " create mode 100644 data/membrane/train/label/15.png\n",
            " create mode 100644 data/membrane/train/label/16.png\n",
            " create mode 100644 data/membrane/train/label/17.png\n",
            " create mode 100644 data/membrane/train/label/18.png\n",
            " create mode 100644 data/membrane/train/label/19.png\n",
            " create mode 100644 data/membrane/train/label/2.png\n",
            " create mode 100644 data/membrane/train/label/20.png\n",
            " create mode 100644 data/membrane/train/label/21.png\n",
            " create mode 100644 data/membrane/train/label/22.png\n",
            " create mode 100644 data/membrane/train/label/23.png\n",
            " create mode 100644 data/membrane/train/label/24.png\n",
            " create mode 100644 data/membrane/train/label/25.png\n",
            " create mode 100644 data/membrane/train/label/26.png\n",
            " create mode 100644 data/membrane/train/label/27.png\n",
            " create mode 100644 data/membrane/train/label/28.png\n",
            " create mode 100644 data/membrane/train/label/29.png\n",
            " create mode 100644 data/membrane/train/label/3.png\n",
            " create mode 100644 data/membrane/train/label/4.png\n",
            " create mode 100644 data/membrane/train/label/5.png\n",
            " create mode 100644 data/membrane/train/label/6.png\n",
            " create mode 100644 data/membrane/train/label/7.png\n",
            " create mode 100644 data/membrane/train/label/8.png\n",
            " create mode 100644 data/membrane/train/label/9.png\n"
          ],
          "name": "stdout"
        }
      ]
    },
    {
      "cell_type": "code",
      "metadata": {
        "id": "4hsZTqTKkYAI",
        "outputId": "2a54dc09-1c12-4281-e50a-2d3cfd83ee71",
        "colab": {
          "base_uri": "https://localhost:8080/",
          "height": 34
        }
      },
      "source": [
        "!git remote add origin https://<FranPerez98>:<pucp0600@>github@github.com/<FranPerez98>/unet_tesis.git"
      ],
      "execution_count": 22,
      "outputs": [
        {
          "output_type": "stream",
          "text": [
            "/bin/bash: FranPerez98: No such file or directory\n"
          ],
          "name": "stdout"
        }
      ]
    }
  ]
}